{
  "nbformat": 4,
  "nbformat_minor": 0,
  "metadata": {
    "colab": {
      "provenance": []
    },
    "kernelspec": {
      "name": "python3",
      "display_name": "Python 3"
    },
    "language_info": {
      "name": "python"
    }
  },
  "cells": [
    {
      "cell_type": "code",
      "execution_count": 3,
      "metadata": {
        "id": "gBDm8CCjNyyB"
      },
      "outputs": [],
      "source": [
        "import random\n",
        "\n",
        "def generate(text: str, start_words: list[str], chain_length: int, num_generated: int) -> str:\n",
        "    # Tokenize the text into words\n",
        "    words = text.split()\n",
        "\n",
        "    # Create the Markov chain dictionary\n",
        "    markov_chain = {}\n",
        "    for i in range(len(words) - chain_length):\n",
        "        key = tuple(words[i:i + chain_length])\n",
        "        value = words[i + chain_length]\n",
        "        if key in markov_chain:\n",
        "            markov_chain[key].append(value)\n",
        "        else:\n",
        "            markov_chain[key] = [value]\n",
        "\n",
        "    # Generate the sentence\n",
        "    current_words = start_words.copy()\n",
        "    sentence = ' '.join(current_words)\n",
        "\n",
        "    for _ in range(num_generated):\n",
        "        key = tuple(current_words)\n",
        "        if key in markov_chain:\n",
        "            next_word = random.choice(markov_chain[key])\n",
        "            sentence += ' ' + next_word\n",
        "            current_words = current_words[1:] + [next_word]\n",
        "        else:\n",
        "            break  # Markov chain ends abruptly\n",
        "\n",
        "    return sentence"
      ]
    },
    {
      "cell_type": "code",
      "source": [
        "# Example text\n",
        "example_text = \"The quick brown fox jumps over the lazy dog\"\n",
        "\n",
        "# Test case 1\n",
        "start_words_1 = ['The', 'quick']\n",
        "chain_length_1 = 2\n",
        "num_generated_1 = 5\n",
        "output_1 = generate(example_text, start_words_1, chain_length_1, num_generated_1)\n",
        "print(\"Test Case 1:\", output_1)\n",
        "\n",
        "# Test case 2\n",
        "start_words_2 = ['quick', 'brown']\n",
        "chain_length_2 = 2\n",
        "num_generated_2 = 7\n",
        "output_2 = generate(example_text, start_words_2, chain_length_2, num_generated_2)\n",
        "print(\"Test Case 2:\", output_2)\n",
        "\n",
        "# Test case 3\n",
        "start_words_3 = ['The', 'quick', 'brown']\n",
        "chain_length_3 = 3\n",
        "num_generated_3 = 10\n",
        "output_3 = generate(example_text, start_words_3, chain_length_3, num_generated_3)\n",
        "print(\"Test Case 3:\", output_3)\n",
        "\n",
        "# Test case 4\n",
        "start_words_4 = ['The']\n",
        "chain_length_4 = 1\n",
        "num_generated_4 = 5\n",
        "output_4 = generate(example_text, start_words_4, chain_length_4, num_generated_4)\n",
        "print(\"Test Case 4:\", output_4)\n"
      ],
      "metadata": {
        "colab": {
          "base_uri": "https://localhost:8080/"
        },
        "id": "B1Lq91yzN7IT",
        "outputId": "b65eeee3-52c4-46f6-d26e-7839192a2a13"
      },
      "execution_count": 4,
      "outputs": [
        {
          "output_type": "stream",
          "name": "stdout",
          "text": [
            "Test Case 1: The quick brown fox jumps over the\n",
            "Test Case 2: quick brown fox jumps over the lazy dog\n",
            "Test Case 3: The quick brown fox jumps over the lazy dog\n",
            "Test Case 4: The quick brown fox jumps over\n"
          ]
        }
      ]
    }
  ]
}