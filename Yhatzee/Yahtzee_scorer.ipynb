{
  "nbformat": 4,
  "nbformat_minor": 0,
  "metadata": {
    "colab": {
      "provenance": []
    },
    "kernelspec": {
      "name": "python3",
      "display_name": "Python 3"
    },
    "language_info": {
      "name": "python"
    }
  },
  "cells": [
    {
      "cell_type": "code",
      "execution_count": 2,
      "metadata": {
        "id": "Wz7nWHyaHTad"
      },
      "outputs": [],
      "source": [
        "#python code for yahtzee scorer deciding the score for a particular category\n",
        "def calculate_score(rolls, category):\n",
        "    if category == \"Aces\":\n",
        "        return rolls.count(1) * 1\n",
        "    elif category == \"Twos\":\n",
        "        return rolls.count(2) * 2\n",
        "    elif category == \"Threes\":\n",
        "        return rolls.count(3) * 3\n",
        "    elif category == \"Fours\":\n",
        "        return rolls.count(4) * 4\n",
        "    elif category == \"Fives\":\n",
        "        return rolls.count(5) * 5\n",
        "    elif category == \"Sixes\":\n",
        "        return rolls.count(6) * 6\n",
        "    elif category == \"Three of a Kind\":\n",
        "        if any(rolls.count(dice) >= 3 for dice in rolls):\n",
        "            return sum(rolls)\n",
        "        else:\n",
        "            return 0\n",
        "    elif category == \"Four of a Kind\":\n",
        "        if any(rolls.count(dice) >= 4 for dice in rolls):\n",
        "            return sum(rolls)\n",
        "        else:\n",
        "            return 0\n",
        "    elif category == \"Full House\":\n",
        "        if len(set(rolls)) == 2 and (rolls.count(rolls[0]) == 2 or rolls.count(rolls[0]) == 3):\n",
        "            return 25\n",
        "        else:\n",
        "            return 0\n",
        "    elif category == \"Small Straight\":\n",
        "        if any([1, 2, 3, 4] in [sorted(rolls), sorted(rolls[1:]), sorted(rolls[2:]), sorted(rolls[3:])]):\n",
        "            return 30\n",
        "        else:\n",
        "            return 0\n",
        "    elif category == \"Large Straight\":\n",
        "        if sorted(rolls) in [[1, 2, 3, 4, 5], [2, 3, 4, 5, 6]]:\n",
        "            return 40\n",
        "        else:\n",
        "            return 0\n",
        "    elif category == \"Yahtzee\":\n",
        "        if rolls.count(rolls[0]) == 5:\n",
        "            return 50\n",
        "        else:\n",
        "            return 0\n",
        "    elif category == \"Chance\":\n",
        "        return sum(rolls)\n",
        "    else:\n",
        "        return 0  # Invalid category"
      ]
    },
    {
      "cell_type": "code",
      "source": [
        "rolls = [3, 3, 3, 6, 6]\n",
        "category = \"Full House\"\n",
        "score = calculate_score(rolls, category)\n",
        "print(f\"Score for {rolls} in {category}: {score}\")"
      ],
      "metadata": {
        "colab": {
          "base_uri": "https://localhost:8080/"
        },
        "id": "p5LxTvFJHfnr",
        "outputId": "cd952305-7c5c-4f08-8276-42ec887a65f0"
      },
      "execution_count": 3,
      "outputs": [
        {
          "output_type": "stream",
          "name": "stdout",
          "text": [
            "Score for [3, 3, 3, 6, 6] in Full House: 25\n"
          ]
        }
      ]
    },
    {
      "cell_type": "code",
      "source": [
        "rolls = [3, 3, 3, 6, 6]\n",
        "categories = [\"Three of a Kind\", \"Four of a Kind\", \"Yahtzee\", \"Chance\"`]\n",
        "for category in categories:\n",
        "    score = calculate_score(rolls, category)\n",
        "    print(f\"Score for {rolls} in {category}: {score}\")\n"
      ],
      "metadata": {
        "colab": {
          "base_uri": "https://localhost:8080/"
        },
        "id": "7KqZfnz4HiZc",
        "outputId": "dfeb42c2-984e-4460-9230-00a594b9556e"
      },
      "execution_count": 5,
      "outputs": [
        {
          "output_type": "stream",
          "name": "stdout",
          "text": [
            "Score for [3, 3, 3, 6, 6] in Three of a Kind: 21\n",
            "Score for [3, 3, 3, 6, 6] in Four of a Kind: 0\n",
            "Score for [3, 3, 3, 6, 6] in Yahtzee: 0\n",
            "Score for [3, 3, 3, 6, 6] in Chance: 21\n"
          ]
        }
      ]
    },
    {
      "cell_type": "code",
      "source": [
        "rolls = [2, 2, 3, 4 ,5]\n",
        "category = \"Twos\"\n",
        "score = calculate_score(rolls, category)\n",
        "print(f\"Score for {rolls} in {category}: {score}\")"
      ],
      "metadata": {
        "colab": {
          "base_uri": "https://localhost:8080/"
        },
        "id": "tVPA-lYZId99",
        "outputId": "19da4b8d-866b-4b2e-d4c8-f473bc185593"
      },
      "execution_count": 7,
      "outputs": [
        {
          "output_type": "stream",
          "name": "stdout",
          "text": [
            "Score for [2, 2, 3, 4, 5] in Twos: 4\n"
          ]
        }
      ]
    }
  ]
}