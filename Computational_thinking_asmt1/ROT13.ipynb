{
  "nbformat": 4,
  "nbformat_minor": 0,
  "metadata": {
    "colab": {
      "provenance": []
    },
    "kernelspec": {
      "name": "python3",
      "display_name": "Python 3"
    },
    "language_info": {
      "name": "python"
    }
  },
  "cells": [
    {
      "cell_type": "markdown",
      "source": [
        "ROT 13"
      ],
      "metadata": {
        "id": "rcv6T9iKU97b"
      }
    },
    {
      "cell_type": "code",
      "source": [
        "def rot13char(ch: str, step: int) -> str:\n",
        "    if not ch.isalpha(): #checking if its is an alphabet\n",
        "        return ch\n",
        "    offset = ord('a') if ch.islower() else ord('A') #ord is used to find unicode\n",
        "    shifted_ord = (ord(ch) - offset + step) % 26 + offset\n",
        "    return chr(shifted_ord)\n"
      ],
      "metadata": {
        "id": "d0gMqt-UU_xu"
      },
      "execution_count": 1,
      "outputs": []
    },
    {
      "cell_type": "code",
      "source": [
        "#testing the code with uppercase letters\n",
        "print(rot13char('A', 13))\n",
        "print(rot13char('Z', 13))\n",
        "print(rot13char('C', 5))"
      ],
      "metadata": {
        "colab": {
          "base_uri": "https://localhost:8080/"
        },
        "id": "LBgMlzQKVMBt",
        "outputId": "9435a86c-a9a0-4684-faba-4a6b2b071f7e"
      },
      "execution_count": 2,
      "outputs": [
        {
          "output_type": "stream",
          "name": "stdout",
          "text": [
            "N\n",
            "M\n",
            "H\n"
          ]
        }
      ]
    },
    {
      "cell_type": "code",
      "source": [
        "#testing the code with lowercase letters\n",
        "print(rot13char('a', 13))\n",
        "print(rot13char('z', 13))\n",
        "print(rot13char('c', 5))"
      ],
      "metadata": {
        "colab": {
          "base_uri": "https://localhost:8080/"
        },
        "id": "bjc3INqxViIw",
        "outputId": "9e8917be-2d52-46b4-98c8-20c78072b483"
      },
      "execution_count": 3,
      "outputs": [
        {
          "output_type": "stream",
          "name": "stdout",
          "text": [
            "n\n",
            "m\n",
            "h\n"
          ]
        }
      ]
    },
    {
      "cell_type": "code",
      "source": [
        "#with characters other than alphabets\n",
        "print(rot13char('1', 13))\n",
        "print(rot13char(',', 13))\n",
        "print(rot13char(' ', 13))"
      ],
      "metadata": {
        "colab": {
          "base_uri": "https://localhost:8080/"
        },
        "id": "PLxFazN0V3sD",
        "outputId": "e663b799-24a4-4789-b06a-e84a72706c62"
      },
      "execution_count": 7,
      "outputs": [
        {
          "output_type": "stream",
          "name": "stdout",
          "text": [
            "1\n",
            ",\n",
            " \n"
          ]
        }
      ]
    },
    {
      "cell_type": "code",
      "source": [
        "word = \"Hello\"\n",
        "encoded_word = ''.join(rot13char(ch, 13) for ch in word)\n",
        "print(encoded_word)"
      ],
      "metadata": {
        "colab": {
          "base_uri": "https://localhost:8080/"
        },
        "id": "u4lPWVQJWHQL",
        "outputId": "2d9aa269-25f7-4276-e7ff-cf3e2f632603"
      },
      "execution_count": 6,
      "outputs": [
        {
          "output_type": "stream",
          "name": "stdout",
          "text": [
            "Uryyb\n"
          ]
        }
      ]
    }
  ]
}